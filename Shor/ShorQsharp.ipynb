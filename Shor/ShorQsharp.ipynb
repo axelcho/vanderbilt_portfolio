{
 "cells": [
  {
   "cell_type": "markdown",
   "id": "ae6d24aa",
   "metadata": {},
   "source": [
    "<h1>Shor Algorithm via Q# and Jupyter Notebook</h1>\n",
    "\n",
    "\n",
    "<c>Seong Cho</c>"
   ]
  },
  {
   "cell_type": "markdown",
   "id": "8db4065e",
   "metadata": {},
   "source": [
    "This is an implementation of Shor Algorithm using Q# and Jupyter Notebook. \n",
    "\n",
    "<h3>1. Rotation</h3>\n",
    "\n",
    "    This is a custom operation that would do a rotation with two qubits, one control qubit and one target qubit. "
   ]
  },
  {
   "cell_type": "code",
   "execution_count": 2,
   "id": "b9362b0f",
   "metadata": {},
   "outputs": [
    {
     "data": {
      "application/x-qsharp-data": "[\"ControlledRotation\"]",
      "text/html": [
       "<ul><li>ControlledRotation</li></ul>"
      ],
      "text/plain": [
       "ControlledRotation"
      ]
     },
     "execution_count": 2,
     "metadata": {
      "application/x-qsharp-data": {},
      "text/html": {},
      "text/plain": {}
     },
     "output_type": "execute_result"
    }
   ],
   "source": [
    "operation ControlledRotation (control : Qubit, target :Qubit, theta : Double) : Unit is Adj {\n",
    "    Controlled Rx([control], (theta, target));\n",
    "}"
   ]
  },
  {
   "cell_type": "markdown",
   "id": "d78b7c3b",
   "metadata": {},
   "source": [
    "<h3>2. Algorithm</h3>\n",
    "\n",
    "   The main algorithm. It takes an array of 5 qubits, run them through the Shor circuit, measure and reset, and return a binary integer. "
   ]
  },
  {
   "cell_type": "code",
   "execution_count": 3,
   "id": "829730d6",
   "metadata": {},
   "outputs": [
    {
     "data": {
      "application/x-qsharp-data": "[\"RunShor\"]",
      "text/html": [
       "<ul><li>RunShor</li></ul>"
      ],
      "text/plain": [
       "RunShor"
      ]
     },
     "execution_count": 3,
     "metadata": {
      "application/x-qsharp-data": {},
      "text/html": {},
      "text/plain": {}
     },
     "output_type": "execute_result"
    }
   ],
   "source": [
    "    operation RunShor(qs: Qubit[]): Int {        \n",
    "    \n",
    "        //if the array of qubits has less than 5, it cannot proceed further. Return a default value.  \n",
    "        if (Length(qs) < 5) {\n",
    "            return 0;\n",
    "        }       \n",
    "        \n",
    "        \n",
    "        //add hadamard gates on first 3 qubits so that they would be phased. \n",
    "        H(qs[0]);\n",
    "        H(qs[1]);\n",
    "        H(qs[2]);\n",
    "        \n",
    "        //entangle them with two control qubits        \n",
    "        CNOT(qs[2], qs[3]);\n",
    "        CNOT(qs[2], qs[4]);\n",
    "        \n",
    "        \n",
    "        //hadamard on 2nd qubit. \n",
    "        H(qs[1]);\n",
    "        \n",
    "        //1/2 pi rotation with 1st and 2nd\n",
    "        ControlledRotation(qs[0], qs[1], 1.57079632679);\n",
    "        \n",
    "        //hadamard on 1st qubit\n",
    "        H(qs[0]);\n",
    "        \n",
    "        //1/4 pi rotation with 2nd and 3rd\n",
    "        ControlledRotation(qs[1], qs[2], 0.78539816339);\n",
    "        \n",
    "        //1/2 pi rotation on 1st and 3red\n",
    "        ControlledRotation(qs[0], qs[2], 1.57079632679);\n",
    "        \n",
    "    \n",
    "        //measure and write out the binary results from first three qubits        \n",
    "        let outcome0 = (M(qs[0]) == One ? 0b1 | 0);\n",
    "        let outcome1 = (M(qs[1]) == One ? 0b10 | 0);\n",
    "        let outcome2 = (M(qs[2]) == One ? 0b100 | 0);\n",
    "\n",
    "        //reset the qubits for next iteration        \n",
    "        for index in 0 .. Length(qs) - 1 {\n",
    "            Reset(qs[index]);\n",
    "        }\n",
    "\n",
    "        return outcome0 + outcome1 + outcome2; \n",
    "    }"
   ]
  },
  {
   "cell_type": "markdown",
   "id": "f35cf250",
   "metadata": {},
   "source": [
    "<h3>3. Loop and Output</h3>\n",
    "\n",
    "    This send the request to the main algorithm as many times as required to get a statistical result. "
   ]
  },
  {
   "cell_type": "code",
   "execution_count": 4,
   "id": "99465058",
   "metadata": {},
   "outputs": [
    {
     "data": {
      "application/x-qsharp-data": "[\"Loop\"]",
      "text/html": [
       "<ul><li>Loop</li></ul>"
      ],
      "text/plain": [
       "Loop"
      ]
     },
     "execution_count": 4,
     "metadata": {
      "application/x-qsharp-data": {},
      "text/html": {},
      "text/plain": {}
     },
     "output_type": "execute_result"
    }
   ],
   "source": [
    "    operation Loop (count :Int) : Unit {\n",
    "\n",
    "\n",
    "        mutable reg000 = 0;\n",
    "        mutable reg001 = 0;\n",
    "        mutable reg010 = 0;\n",
    "        mutable reg011 = 0;\n",
    "        mutable reg100 = 0;\n",
    "        mutable reg101 = 0;\n",
    "        mutable reg111 = 0;          \n",
    "        mutable regerr = 0;\n",
    "   \n",
    "    \n",
    "        use qs = Qubit[5];\n",
    "   \n",
    "        for index in 0 .. count {\n",
    "        \n",
    "        \n",
    "            let shorResult = RunShor(qs);\n",
    "    \n",
    "            if (shorResult == 0) {\n",
    "                set reg000 +=1;\n",
    "            }\n",
    "        \n",
    "            elif (shorResult == 0b1) {\n",
    "                set reg001 +=1;\n",
    "            }\n",
    "        \n",
    "            elif (shorResult == 0b10) {\n",
    "                set reg010 += 1;\n",
    "            }\n",
    "        \n",
    "            elif (shorResult == 0b11) {\n",
    "                set reg011 += 1;\n",
    "            }\n",
    "        \n",
    "            elif (shorResult == 0b100) {\n",
    "                set reg100 += 1;\n",
    "            }\n",
    "        \n",
    "            elif (shorResult == 0b101) {\n",
    "                set reg101 += 1;\n",
    "            }\n",
    "        \n",
    "            elif (shorResult == 0b111) {\n",
    "                set reg111 += 1;\n",
    "            }\n",
    "        \n",
    "            else {\n",
    "                set regerr += 1;\n",
    "            }\n",
    "        }\n",
    "    \n",
    "    \n",
    "        //output the iterated results\n",
    "        \n",
    "        Message($\"Total: {count}\");\n",
    "        Message($\"|>000 : {reg000}\");\n",
    "        Message($\"|>001 : {reg001}\");\n",
    "        Message($\"|>010 : {reg010}\");\n",
    "        Message($\"|>011 : {reg011}\");\n",
    "        Message($\"|>100 : {reg100}\");\n",
    "        Message($\"|>101 : {reg101}\");\n",
    "        Message($\"|>111 : {reg111}\");\n",
    "    \n",
    "        Message($\"Errors : {regerr}\");\n",
    "    \n",
    "}"
   ]
  },
  {
   "cell_type": "markdown",
   "id": "1f2914f0",
   "metadata": {},
   "source": [
    "<h3> 4. Entry point</h3>\n",
    "\n",
    "    This is the entry point, which would be a one liner. "
   ]
  },
  {
   "cell_type": "code",
   "execution_count": 6,
   "id": "f7d018e9",
   "metadata": {},
   "outputs": [
    {
     "data": {
      "application/x-qsharp-data": "[\"Main\"]",
      "text/html": [
       "<ul><li>Main</li></ul>"
      ],
      "text/plain": [
       "Main"
      ]
     },
     "execution_count": 6,
     "metadata": {
      "application/x-qsharp-data": {},
      "text/html": {},
      "text/plain": {}
     },
     "output_type": "execute_result"
    }
   ],
   "source": [
    "   operation Main(): Unit {\n",
    "       Loop(2048);\n",
    "   }"
   ]
  },
  {
   "cell_type": "markdown",
   "id": "fbcf6ef2",
   "metadata": {},
   "source": [
    "<h3>5. Simulation</h3>\n",
    "\n",
    "   Run the simulation of the entire code"
   ]
  },
  {
   "cell_type": "code",
   "execution_count": 7,
   "id": "8584996c",
   "metadata": {},
   "outputs": [
    {
     "name": "stdout",
     "output_type": "stream",
     "text": [
      "Total: 2048\n",
      "|>000 : 795\n",
      "|>001 : 24\n",
      "|>010 : 131\n",
      "|>011 : 130\n",
      "|>100 : 730\n",
      "|>101 : 25\n",
      "|>111 : 117\n",
      "Errors : 97\n"
     ]
    },
    {
     "data": {
      "application/x-qsharp-data": "{\"@type\":\"tuple\"}",
      "text/plain": [
       "()"
      ]
     },
     "execution_count": 7,
     "metadata": {
      "application/x-qsharp-data": {},
      "text/plain": {}
     },
     "output_type": "execute_result"
    }
   ],
   "source": [
    "%simulate Main"
   ]
  },
  {
   "cell_type": "code",
   "execution_count": null,
   "id": "bb1f06f4",
   "metadata": {},
   "outputs": [],
   "source": []
  },
  {
   "cell_type": "code",
   "execution_count": null,
   "id": "9d783d3a",
   "metadata": {},
   "outputs": [],
   "source": []
  }
 ],
 "metadata": {
  "kernelspec": {
   "display_name": "Q#",
   "language": "qsharp",
   "name": "iqsharp"
  },
  "language_info": {
   "file_extension": ".qs",
   "mimetype": "text/x-qsharp",
   "name": "qsharp",
   "version": "0.26"
  }
 },
 "nbformat": 4,
 "nbformat_minor": 5
}
