{
 "cells": [
  {
   "cell_type": "markdown",
   "id": "ed2309fc-ddb1-4b42-a4c8-1ca7964d02d7",
   "metadata": {},
   "source": [
    "<h1> Shor's Algorithm at Qiskit </h1>"
   ]
  },
  {
   "cell_type": "markdown",
   "id": "81bc86d3-a7fc-40e5-961d-142c796e98c0",
   "metadata": {},
   "source": [
    "Seong Cho\n",
    "\n",
    "\n",
    "This is implementation of Shor's Algorithm at IBM's Qiskit Quantum Lab built via a Jupyter Notebook. \n",
    "\n",
    "1. Import\n",
    "\n",
    "numpy and qiskit elements are imported"
   ]
  },
  {
   "cell_type": "code",
   "execution_count": 1,
   "id": "d1c68047-c832-42cd-9529-08272ca718b3",
   "metadata": {},
   "outputs": [
    {
     "name": "stderr",
     "output_type": "stream",
     "text": [
      "<frozen importlib._bootstrap>:219: RuntimeWarning: scipy._lib.messagestream.MessageStream size changed, may indicate binary incompatibility. Expected 56 from C header, got 64 from PyObject\n"
     ]
    }
   ],
   "source": [
    "#import statements\n",
    "\n",
    "#numpy \n",
    "import numpy as np\n",
    "\n",
    "# Importing standard Qiskit libraries\n",
    "from qiskit import QuantumCircuit, IBMQ, transpile, Aer, QuantumRegister, ClassicalRegister\n",
    "\n",
    "#Jupyter tools\n",
    "from qiskit.tools.jupyter import *\n",
    "\n",
    "#visualization\n",
    "from qiskit.visualization import *\n",
    "\n",
    "#QasmSimulator\n",
    "from qiskit.providers.aer import QasmSimulator"
   ]
  },
  {
   "cell_type": "markdown",
   "id": "327c68f6-75fb-4c7b-a072-ce148180ba21",
   "metadata": {},
   "source": [
    "2. Login\n",
    "\n",
    "IBMQ package is used here to log into IBM Qiskit account"
   ]
  },
  {
   "cell_type": "code",
   "execution_count": 2,
   "id": "b8636612-747c-4c6f-85d6-200305bfd1b1",
   "metadata": {},
   "outputs": [],
   "source": [
    "# Loading your IBM Quantum account(s)\n",
    "provider = IBMQ.load_account()"
   ]
  },
  {
   "cell_type": "markdown",
   "id": "13e333b9-f22b-4c07-9ff0-f46346a76185",
   "metadata": {},
   "source": [
    "3. Implement\n",
    "\n",
    "This is the main code. \n",
    "    a) a circuit is defined with 5 qubits\n",
    "    b) 3 qubits go through Hadamard gates into superposed status.\n",
    "    c) 2 control qubits are linked with the first 3 qubits via CNOT gate\n",
    "    d) further Hadamard gates and RZZ gates\n",
    "    e) the first 3 qubits are measured "
   ]
  },
  {
   "cell_type": "code",
   "execution_count": 3,
   "id": "25d324fb-6f64-489f-910e-a050ff9360ea",
   "metadata": {},
   "outputs": [
    {
     "data": {
      "text/plain": [
       "<qiskit.circuit.instructionset.InstructionSet at 0x7f6313f7f100>"
      ]
     },
     "execution_count": 3,
     "metadata": {},
     "output_type": "execute_result"
    }
   ],
   "source": [
    "qr = QuantumRegister(5, 'q')\n",
    "cr = ClassicalRegister(4, 'c')\n",
    "cir = QuantumCircuit(qr, cr)\n",
    "\n",
    "\n",
    "cir.h(qr[0])\n",
    "cir.h(qr[1])\n",
    "cir.h(qr[2])\n",
    "\n",
    "cir.cx(qr[3], qr[2])\n",
    "cir.cx(qr[4], qr[2])\n",
    "\n",
    "cir.h(qr[1])\n",
    "cir.h(qr[0])\n",
    "\n",
    "cir.rzz(np.pi / 2, qr[0], qr[1])\n",
    "cir.rzz(np.pi / 4, qr[1], qr[2])\n",
    "cir.rzz(np.pi / 2, qr[0], qr[2])\n",
    "\n",
    "cir.measure(qr[0], cr[0])\n",
    "cir.measure(qr[1], cr[1])\n",
    "cir.measure(qr[2], cr[2])"
   ]
  },
  {
   "cell_type": "markdown",
   "id": "807d4581-96b4-4a1c-ae3d-76ab9a5c484c",
   "metadata": {},
   "source": [
    "4. Circuit Diagram\n",
    "\n",
    "The diagram of the circuit is drawn here using the internal \"draw()\" command"
   ]
  },
  {
   "cell_type": "code",
   "execution_count": 4,
   "id": "7921e82e-a752-4f66-be38-00378d8fb2d4",
   "metadata": {},
   "outputs": [
    {
     "data": {
      "image/png": "[encoded data removed]",
      "text/plain": [
       "<Figure size 748.797x385.28 with 1 Axes>"
      ]
     },
     "execution_count": 4,
     "metadata": {},
     "output_type": "execute_result"
    }
   ],
   "source": [
    "cir.draw()"
   ]
  },
  {
   "cell_type": "markdown",
   "id": "4027b3ad-b4e8-4c80-8955-7ac9f3938f7a",
   "metadata": {},
   "source": [
    "5. Run\n",
    "\n",
    "The circuit is now executed at a simulator from Aer package.\n",
    "qasm_simulator would run this circuit for 4096 times.\n",
    "\n",
    "The result is visulaized with qiskit.visualization.plot_histogram() method"
   ]
  },
  {
   "cell_type": "code",
   "execution_count": 5,
   "id": "b8e9bbb7-550f-478c-a53b-f0d1cbb3652c",
   "metadata": {},
   "outputs": [
    {
     "data": {
      "image/png": "[encoded data removed]",
      "text/plain": [
       "<Figure size 504x360 with 1 Axes>"
      ]
     },
     "execution_count": 5,
     "metadata": {},
     "output_type": "execute_result"
    }
   ],
   "source": [
    "##load qasm_simulator\n",
    "backend = Aer.get_backend('qasm_simulator')\n",
    "\n",
    "##run the qasm_simulator with 4096 tries\n",
    "job = backend.run(transpile(cir, backend), shots=4096)\n",
    "result = job.result()\n",
    "counts = result.get_counts(cir)\n",
    "\n",
    "##visualize the result with qiskit.visualization.plot_histogram\n",
    "plot_histogram(counts)"
   ]
  },
  {
   "cell_type": "code",
   "execution_count": null,
   "id": "d3c559d4-8f06-4ed9-8c58-057353483c79",
   "metadata": {},
   "outputs": [],
   "source": []
  }
 ],
 "metadata": {
  "kernelspec": {
   "display_name": "Python 3 (ipykernel)",
   "language": "python",
   "name": "python3"
  },
  "language_info": {
   "codemirror_mode": {
    "name": "ipython",
    "version": 3
   },
   "file_extension": ".py",
   "mimetype": "text/x-python",
   "name": "python",
   "nbconvert_exporter": "python",
   "pygments_lexer": "ipython3",
   "version": "3.8.13"
  },
  "widgets": {
   "application/vnd.jupyter.widget-state+json": {
    "state": {
     "01fbdea1766e462d9fef8d9285492a76": {
      "model_module": "@jupyter-widgets/base",
      "model_module_version": "1.2.0",
      "model_name": "LayoutModel",
      "state": {
       "margin": "0px 0px 10px 0px"
      }
     },
     "15490b9d3ae247749c230f1f8e1ca030": {
      "model_module": "@jupyter-widgets/controls",
      "model_module_version": "1.5.0",
      "model_name": "DescriptionStyleModel",
      "state": {
       "description_width": ""
      }
     },
     "18efe57570f24bb381d6ba5db0a149a2": {
      "model_module": "@jupyter-widgets/controls",
      "model_module_version": "1.5.0",
      "model_name": "HTMLModel",
      "state": {
       "layout": "IPY_MODEL_eaa591dd3f4246e893a6c80cc794d856",
       "style": "IPY_MODEL_267b4e3aea344281ba6ae9c6c58469e4",
       "value": "<h5>Queue</h5>"
      }
     },
     "23fc00d28a5a4c5aa8eec0ce680adb9b": {
      "model_module": "@jupyter-widgets/controls",
      "model_module_version": "1.5.0",
      "model_name": "DescriptionStyleModel",
      "state": {
       "description_width": ""
      }
     },
     "267b4e3aea344281ba6ae9c6c58469e4": {
      "model_module": "@jupyter-widgets/controls",
      "model_module_version": "1.5.0",
      "model_name": "DescriptionStyleModel",
      "state": {
       "description_width": ""
      }
     },
     "26e63d6ad38c46088cb185eac206527f": {
      "model_module": "@jupyter-widgets/controls",
      "model_module_version": "1.5.0",
      "model_name": "DescriptionStyleModel",
      "state": {
       "description_width": ""
      }
     },
     "2afa593e377f4b35aa6e90dc6fa211be": {
      "model_module": "@jupyter-widgets/base",
      "model_module_version": "1.2.0",
      "model_name": "LayoutModel",
      "state": {
       "grid_area": "right",
       "padding": "0px 0px 0px 0px",
       "width": "70px"
      }
     },
     "420c5f8fdf9f48a6ae0983ff3084b14c": {
      "model_module": "@jupyter-widgets/controls",
      "model_module_version": "1.5.0",
      "model_name": "ButtonStyleModel",
      "state": {}
     },
     "43d5a36987b246579d6b6caa39612321": {
      "model_module": "@jupyter-widgets/controls",
      "model_module_version": "1.5.0",
      "model_name": "DescriptionStyleModel",
      "state": {
       "description_width": ""
      }
     },
     "554027cf443644098ecbc454bd5817d9": {
      "model_module": "@jupyter-widgets/base",
      "model_module_version": "1.2.0",
      "model_name": "LayoutModel",
      "state": {}
     },
     "699f5c7fdee640d29668c74ec808eb81": {
      "model_module": "@jupyter-widgets/base",
      "model_module_version": "1.2.0",
      "model_name": "LayoutModel",
      "state": {
       "width": "95px"
      }
     },
     "7c7935044e3742d0ba5ca0c32e962811": {
      "model_module": "@jupyter-widgets/base",
      "model_module_version": "1.2.0",
      "model_name": "LayoutModel",
      "state": {
       "width": "190px"
      }
     },
     "89a478e0f7aa4467a141fdbe2ac55687": {
      "model_module": "@jupyter-widgets/controls",
      "model_module_version": "1.5.0",
      "model_name": "HTMLModel",
      "state": {
       "layout": "IPY_MODEL_7c7935044e3742d0ba5ca0c32e962811",
       "style": "IPY_MODEL_15490b9d3ae247749c230f1f8e1ca030",
       "value": "<h5>Job ID</h5>"
      }
     },
     "8be9416a82c34844aa4574bdf3af73d2": {
      "model_module": "@jupyter-widgets/base",
      "model_module_version": "1.2.0",
      "model_name": "LayoutModel",
      "state": {
       "width": "145px"
      }
     },
     "9b4265c19dfd489ebaf925c3a81820a4": {
      "model_module": "@jupyter-widgets/controls",
      "model_module_version": "1.5.0",
      "model_name": "ButtonModel",
      "state": {
       "button_style": "primary",
       "description": "Clear",
       "layout": "IPY_MODEL_2afa593e377f4b35aa6e90dc6fa211be",
       "style": "IPY_MODEL_420c5f8fdf9f48a6ae0983ff3084b14c"
      }
     },
     "b7f97af895c74c0fa0645fa4c4bb8ee4": {
      "model_module": "@jupyter-widgets/controls",
      "model_module_version": "1.5.0",
      "model_name": "HTMLModel",
      "state": {
       "layout": "IPY_MODEL_554027cf443644098ecbc454bd5817d9",
       "style": "IPY_MODEL_23fc00d28a5a4c5aa8eec0ce680adb9b",
       "value": "<h5>Message</h5>"
      }
     },
     "c4fa90eda5ba40658c23c3849b002c96": {
      "model_module": "@jupyter-widgets/base",
      "model_module_version": "1.2.0",
      "model_name": "LayoutModel",
      "state": {
       "margin": "0px 0px 0px 37px",
       "width": "600px"
      }
     },
     "c97f1e1b61034102a52bed02cc12c0f2": {
      "model_module": "@jupyter-widgets/controls",
      "model_module_version": "1.5.0",
      "model_name": "HBoxModel",
      "state": {
       "children": [
        "IPY_MODEL_89a478e0f7aa4467a141fdbe2ac55687",
        "IPY_MODEL_edd63450a77a4736bd66d9c43b43efd0",
        "IPY_MODEL_ce2273038a0f462f94ee4f815810d082",
        "IPY_MODEL_18efe57570f24bb381d6ba5db0a149a2",
        "IPY_MODEL_b7f97af895c74c0fa0645fa4c4bb8ee4"
       ],
       "layout": "IPY_MODEL_c4fa90eda5ba40658c23c3849b002c96"
      }
     },
     "ce2273038a0f462f94ee4f815810d082": {
      "model_module": "@jupyter-widgets/controls",
      "model_module_version": "1.5.0",
      "model_name": "HTMLModel",
      "state": {
       "layout": "IPY_MODEL_699f5c7fdee640d29668c74ec808eb81",
       "style": "IPY_MODEL_43d5a36987b246579d6b6caa39612321",
       "value": "<h5>Status</h5>"
      }
     },
     "cfb4700485ad4c1095811daf023f6f4f": {
      "model_module": "@jupyter-widgets/controls",
      "model_module_version": "1.5.0",
      "model_name": "DescriptionStyleModel",
      "state": {
       "description_width": ""
      }
     },
     "daef963275db44679c0599a8997fd33d": {
      "model_module": "@jupyter-widgets/controls",
      "model_module_version": "1.5.0",
      "model_name": "GridBoxModel",
      "state": {
       "children": [
        "IPY_MODEL_9b4265c19dfd489ebaf925c3a81820a4"
       ],
       "layout": "IPY_MODEL_f72ca5c17934424ca91d2241ae2760a7"
      }
     },
     "e148e18b20c74fa9921e828306ba3e2d": {
      "model_module": "@jupyter-widgets/controls",
      "model_module_version": "1.5.0",
      "model_name": "HTMLModel",
      "state": {
       "layout": "IPY_MODEL_01fbdea1766e462d9fef8d9285492a76",
       "style": "IPY_MODEL_26e63d6ad38c46088cb185eac206527f",
       "value": "<p style='font-family: IBM Plex Sans, Arial, Helvetica, sans-serif; font-size: 20px; font-weight: medium;'>Circuit Properties</p>"
      }
     },
     "eaa591dd3f4246e893a6c80cc794d856": {
      "model_module": "@jupyter-widgets/base",
      "model_module_version": "1.2.0",
      "model_name": "LayoutModel",
      "state": {
       "width": "70px"
      }
     },
     "edd63450a77a4736bd66d9c43b43efd0": {
      "model_module": "@jupyter-widgets/controls",
      "model_module_version": "1.5.0",
      "model_name": "HTMLModel",
      "state": {
       "layout": "IPY_MODEL_8be9416a82c34844aa4574bdf3af73d2",
       "style": "IPY_MODEL_cfb4700485ad4c1095811daf023f6f4f",
       "value": "<h5>Backend</h5>"
      }
     },
     "f72ca5c17934424ca91d2241ae2760a7": {
      "model_module": "@jupyter-widgets/base",
      "model_module_version": "1.2.0",
      "model_name": "LayoutModel",
      "state": {
       "grid_template_areas": "\n                                       \". . . . right \"\n                                        ",
       "grid_template_columns": "20% 20% 20% 20% 20%",
       "width": "100%"
      }
     }
    },
    "version_major": 2,
    "version_minor": 0
   }
  }
 },
 "nbformat": 4,
 "nbformat_minor": 5
}
